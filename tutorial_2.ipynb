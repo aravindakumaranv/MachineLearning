{
 "cells": [
  {
   "cell_type": "code",
   "execution_count": 47,
   "metadata": {},
   "outputs": [],
   "source": [
    "import numpy as np\n",
    "from sklearn.linear_model import LinearRegression\n",
    "from sklearn.preprocessing import StandardScaler, PolynomialFeatures\n",
    "from sklearn.pipeline import make_pipeline\n",
    "from sklearn.model_selection import LeaveOneOut, cross_val_score, KFold\n",
    "\n",
    "NUM_DATASETS = 2\n",
    "SIZE = 5\n"
   ]
  },
  {
   "cell_type": "code",
   "execution_count": 39,
   "metadata": {},
   "outputs": [],
   "source": [
    "def createDataset():\n",
    "    x_vals = np.linspace(1,SIZE,SIZE)\n",
    "    y_vals = np.add(x_vals, np.random.normal(size=SIZE))\n",
    "    return x_vals, y_vals"
   ]
  },
  {
   "cell_type": "code",
   "execution_count": 55,
   "metadata": {},
   "outputs": [
    {
     "name": "stdout",
     "output_type": "stream",
     "text": [
      "[[18.6694152   5.37796017]\n",
      " [ 3.3608243   1.33323353]\n",
      " [ 3.57454133  1.13698482]\n",
      " [ 2.77998946  1.11478099]]\n"
     ]
    }
   ],
   "source": [
    "linear_regression = make_pipeline(StandardScaler(), LinearRegression())\n",
    "\n",
    "errors = np.empty([NUM_DATASETS,SIZE-1])\n",
    "for i in range(NUM_DATASETS):\n",
    "    x_vals, y_vals = createDataset()\n",
    "    k_scores = list()\n",
    "    for k in range(2,SIZE+1):\n",
    "        mses = cross_val_score(\n",
    "            estimator=linear_regression, X=x_vals.reshape(-1,1), y=y_vals, \n",
    "            cv=KFold(\n",
    "                n_splits=k, shuffle=True, random_state=0\n",
    "                ), \n",
    "            scoring='neg_mean_squared_error')\n",
    "        k_scores.append(-np.mean(mses))\n",
    "    errors[i] = np.array(k_scores)\n",
    "\n",
    "errors = np.transpose(errors)\n",
    "print(errors)"
   ]
  }
 ],
 "metadata": {
  "kernelspec": {
   "display_name": "Python 3 (ipykernel)",
   "language": "python",
   "name": "python3"
  },
  "language_info": {
   "codemirror_mode": {
    "name": "ipython",
    "version": 3
   },
   "file_extension": ".py",
   "mimetype": "text/x-python",
   "name": "python",
   "nbconvert_exporter": "python",
   "pygments_lexer": "ipython3",
   "version": "3.10.2"
  },
  "orig_nbformat": 4
 },
 "nbformat": 4,
 "nbformat_minor": 2
}
