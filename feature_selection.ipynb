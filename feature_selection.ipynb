{
 "cells": [
  {
   "cell_type": "code",
   "execution_count": 1,
   "metadata": {},
   "outputs": [],
   "source": [
    "import pandas as pd"
   ]
  },
  {
   "cell_type": "code",
   "execution_count": 2,
   "metadata": {},
   "outputs": [],
   "source": [
    "d = pd.read_csv('auto-mpg.csv')"
   ]
  },
  {
   "cell_type": "code",
   "execution_count": 3,
   "metadata": {},
   "outputs": [],
   "source": [
    "X = d.drop('mpg', axis='columns')\n",
    "y = d.mpg"
   ]
  },
  {
   "cell_type": "code",
   "execution_count": 4,
   "metadata": {},
   "outputs": [],
   "source": [
    "from sklearn.linear_model import LinearRegression\n",
    "from sklearn.preprocessing import StandardScaler\n",
    "from sklearn.pipeline import make_pipeline"
   ]
  },
  {
   "cell_type": "code",
   "execution_count": 5,
   "metadata": {},
   "outputs": [],
   "source": [
    "model = make_pipeline(StandardScaler(), LinearRegression())"
   ]
  },
  {
   "cell_type": "code",
   "execution_count": 6,
   "metadata": {},
   "outputs": [],
   "source": [
    "from sklearn.model_selection import KFold\n",
    "kfold = KFold(n_splits=5, shuffle=True, random_state=0)"
   ]
  },
  {
   "cell_type": "code",
   "execution_count": 11,
   "metadata": {},
   "outputs": [],
   "source": [
    "from itertools import combinations\n",
    "from sklearn.model_selection import cross_val_score\n",
    "from sklearn.metrics import mean_squared_error\n",
    "import numpy as np\n",
    "from numpy.typing import ArrayLike\n",
    "from typing import List"
   ]
  },
  {
   "cell_type": "code",
   "execution_count": 90,
   "metadata": {},
   "outputs": [],
   "source": [
    "class Solution:\n",
    "    features: List[int]\n",
    "    mse: float\n",
    "\n",
    "    def __init__(self, y: ArrayLike):\n",
    "        self.features = list()\n",
    "        self.mse = mean_squared_error(y, [y.mean()]*len(y))\n",
    "\n",
    "    def update(self, features: List[int], mse: float) -> bool:\n",
    "        if(mse < self.mse):\n",
    "            print(', '.join(str(x) for x in features))\n",
    "            print(f\"\\tNew Error: {mse:.3f} better than {self.mse:.3f}\")\n",
    "            self.features = features\n",
    "            self.mse = mse\n",
    "            return True\n",
    "\n",
    "        return False"
   ]
  },
  {
   "cell_type": "markdown",
   "metadata": {},
   "source": [
    "## Feature Selection by complete enumeration"
   ]
  },
  {
   "cell_type": "code",
   "execution_count": 94,
   "metadata": {},
   "outputs": [
    {
     "data": {
      "text/plain": [
       "Index(['cylinders', 'displacement', 'hp', 'weight', 'acceleration', 'year',\n",
       "       'origin'],\n",
       "      dtype='object')"
      ]
     },
     "execution_count": 94,
     "metadata": {},
     "output_type": "execute_result"
    }
   ],
   "source": [
    "best = Solution(y)\n",
    "features = X.columns\n",
    "features"
   ]
  },
  {
   "cell_type": "code",
   "execution_count": 95,
   "metadata": {},
   "outputs": [
    {
     "name": "stdout",
     "output_type": "stream",
     "text": [
      "cylinders\n",
      "\tNew Error: 24.131 better than 60.763\n",
      "displacement\n",
      "\tNew Error: 21.525 better than 24.131\n",
      "weight\n",
      "\tNew Error: 18.833 better than 21.525\n",
      "cylinders, weight\n",
      "\tNew Error: 18.605 better than 18.833\n",
      "cylinders, year\n",
      "\tNew Error: 17.465 better than 18.605\n",
      "displacement, year\n",
      "\tNew Error: 15.979 better than 17.465\n",
      "weight, year\n",
      "\tNew Error: 11.847 better than 15.979\n",
      "weight, year, origin\n",
      "\tNew Error: 11.448 better than 11.847\n",
      "hp, weight, year, origin\n",
      "\tNew Error: 11.439 better than 11.448\n",
      "displacement, hp, weight, year, origin\n",
      "\tNew Error: 11.356 better than 11.439\n",
      "cylinders, displacement, hp, weight, year, origin\n",
      "\tNew Error: 11.352 better than 11.356\n"
     ]
    }
   ],
   "source": [
    "for n_features in range(1,len(features)+1):\n",
    "    subsets = combinations(features, n_features)\n",
    "\n",
    "    for subset in subsets:\n",
    "        Xr = X[list(subset)]\n",
    "        mses = cross_val_score(estimator=model, X=Xr, y=y, cv=kfold, scoring='neg_mean_squared_error')\n",
    "        mse = -np.average(mses)\n",
    "        best.update(features=subset, mse=mse)"
   ]
  },
  {
   "cell_type": "code",
   "execution_count": 31,
   "metadata": {},
   "outputs": [
    {
     "name": "stdout",
     "output_type": "stream",
     "text": [
      "Selected features: cylinders, displacement, hp, weight, year, origin\n"
     ]
    }
   ],
   "source": [
    "print('Selected features: ', end='')\n",
    "print(', '.join([str(x) for x in best.features]))"
   ]
  },
  {
   "cell_type": "markdown",
   "metadata": {},
   "source": [
    "## Forward stepwise selection"
   ]
  },
  {
   "cell_type": "code",
   "execution_count": 92,
   "metadata": {},
   "outputs": [],
   "source": [
    "all_features = features\n",
    "current_features = list()\n",
    "best = Solution(y)"
   ]
  },
  {
   "cell_type": "code",
   "execution_count": 93,
   "metadata": {},
   "outputs": [
    {
     "name": "stdout",
     "output_type": "stream",
     "text": [
      "displacement\n",
      "\tNew Error: 21.525 better than 60.763\n",
      "weight\n",
      "\tNew Error: 18.833 better than 21.525\n",
      "weight, cylinders\n",
      "\tNew Error: 18.605 better than 18.833\n",
      "weight, year\n",
      "\tNew Error: 11.847 better than 18.605\n",
      "weight, year, origin\n",
      "\tNew Error: 11.448 better than 11.847\n",
      "weight, year, origin, hp\n",
      "\tNew Error: 11.439 better than 11.448\n",
      "weight, year, origin, hp, displacement\n",
      "\tNew Error: 11.356 better than 11.439\n",
      "weight, year, origin, hp, displacement, cylinders\n",
      "\tNew Error: 11.352 better than 11.356\n"
     ]
    }
   ],
   "source": [
    "while len(current_features) != len(all_features):\n",
    "    selected_feature = None\n",
    "\n",
    "    for feature in set(all_features) - set(current_features):\n",
    "        new_features = current_features + [feature]\n",
    "        Xr = X[new_features]\n",
    "        mses = cross_val_score(estimator=model, X=Xr, y=y, cv=kfold, scoring='neg_mean_squared_error')\n",
    "        mse = -np.average(mses)\n",
    "\n",
    "        if(best.update(features=new_features, mse=mse)):\n",
    "            selected_feature = feature\n",
    "        \n",
    "    if(selected_feature):\n",
    "        current_features.append(selected_feature)\n",
    "    else:\n",
    "        break"
   ]
  },
  {
   "cell_type": "markdown",
   "metadata": {},
   "source": [
    "## Backward Stepwise selection"
   ]
  },
  {
   "cell_type": "code",
   "execution_count": 88,
   "metadata": {},
   "outputs": [],
   "source": [
    "all_features = features\n",
    "current_features = all_features\n",
    "best = Solution(y)"
   ]
  },
  {
   "cell_type": "code",
   "execution_count": 89,
   "metadata": {},
   "outputs": [
    {
     "name": "stdout",
     "output_type": "stream",
     "text": [
      "displacement, hp, weight, acceleration, year, origin\n",
      "\tNew Error: 11.547\n",
      "cylinders, displacement, weight, acceleration, year, origin\n",
      "\tNew Error: 11.506\n",
      "cylinders, displacement, hp, weight, year, origin\n",
      "\tNew Error: 11.352\n"
     ]
    }
   ],
   "source": [
    "while len(current_features)>0:\n",
    "    selected_feature = None\n",
    "\n",
    "    for feature in current_features:\n",
    "        new_features = current_features.drop(feature)\n",
    "        Xr = X[new_features]\n",
    "        mses = cross_val_score(estimator=model, X=Xr, y=y, cv=kfold, scoring='neg_mean_squared_error')\n",
    "        mse = -np.average(mses)\n",
    "\n",
    "        if(best.update(features=new_features, mse=mse)):\n",
    "            selected_feature = feature\n",
    "        \n",
    "    if(selected_feature):\n",
    "        current_features = current_features.drop(selected_feature)\n",
    "    else:\n",
    "        break"
   ]
  }
 ],
 "metadata": {
  "kernelspec": {
   "display_name": "Python 3 (ipykernel)",
   "language": "python",
   "name": "python3"
  },
  "language_info": {
   "codemirror_mode": {
    "name": "ipython",
    "version": 3
   },
   "file_extension": ".py",
   "mimetype": "text/x-python",
   "name": "python",
   "nbconvert_exporter": "python",
   "pygments_lexer": "ipython3",
   "version": "3.10.2"
  },
  "orig_nbformat": 4
 },
 "nbformat": 4,
 "nbformat_minor": 2
}
