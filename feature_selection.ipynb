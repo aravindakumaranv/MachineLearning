{
 "cells": [
  {
   "cell_type": "code",
   "execution_count": 2,
   "metadata": {},
   "outputs": [],
   "source": [
    "import pandas as pd"
   ]
  },
  {
   "cell_type": "code",
   "execution_count": 3,
   "metadata": {},
   "outputs": [],
   "source": [
    "d = pd.read_csv('auto-mpg.csv')\n",
    "d.origin.replace({1: 'america', 2: 'europe', 3: 'japan'})\n",
    "d.origin = pd.Categorical(d.origin)"
   ]
  },
  {
   "cell_type": "code",
   "execution_count": 4,
   "metadata": {},
   "outputs": [],
   "source": [
    "X = d.drop('mpg', axis='columns')\n",
    "y = d.mpg"
   ]
  },
  {
   "cell_type": "code",
   "execution_count": 5,
   "metadata": {},
   "outputs": [],
   "source": [
    "categorical_columns = [\n",
    "    col for col in X.columns if d[col].dtype == 'category'\n",
    "]\n",
    "\n",
    "numerical_columns = [   \n",
    "    col for col in X.columns if col not in categorical_columns\n",
    "]"
   ]
  },
  {
   "cell_type": "code",
   "execution_count": 6,
   "metadata": {},
   "outputs": [],
   "source": [
    "from sklearn.linear_model import LinearRegression\n",
    "from sklearn.preprocessing import StandardScaler, OneHotEncoder\n",
    "from sklearn.pipeline import make_pipeline\n",
    "from sklearn.compose import ColumnTransformer"
   ]
  },
  {
   "cell_type": "code",
   "execution_count": 7,
   "metadata": {},
   "outputs": [],
   "source": [
    "def get_model(features):\n",
    "    categorical_features = ['origin'] if 'origin' in features else []\n",
    "    numerical_features = [col for col in features if col != 'origin']\n",
    "\n",
    "    linear_preprocessing = ColumnTransformer(\n",
    "        transformers = [\n",
    "            ('categorial', OneHotEncoder(), categorical_features),\n",
    "            ('numerical', StandardScaler(), numerical_features)\n",
    "        ]\n",
    "    )\n",
    "\n",
    "    model = make_pipeline(\n",
    "        linear_preprocessing,\n",
    "        LinearRegression()\n",
    "    )\n",
    "    return model"
   ]
  },
  {
   "cell_type": "code",
   "execution_count": 8,
   "metadata": {},
   "outputs": [],
   "source": [
    "from sklearn.model_selection import KFold\n",
    "kfold = KFold(n_splits=5, shuffle=True, random_state=0)"
   ]
  },
  {
   "cell_type": "code",
   "execution_count": 9,
   "metadata": {},
   "outputs": [],
   "source": [
    "from itertools import combinations\n",
    "from sklearn.model_selection import cross_val_score\n",
    "from sklearn.metrics import mean_squared_error\n",
    "import numpy as np\n",
    "from numpy.typing import ArrayLike\n",
    "from typing import List"
   ]
  },
  {
   "cell_type": "code",
   "execution_count": 10,
   "metadata": {},
   "outputs": [],
   "source": [
    "class Solution:\n",
    "    features: List[int]\n",
    "    mse: float\n",
    "\n",
    "    def __init__(self, y: ArrayLike):\n",
    "        self.features = list()\n",
    "        self.mse = mean_squared_error(y, [y.mean()]*len(y))\n",
    "\n",
    "    def update(self, features: List[int], mse: float) -> bool:\n",
    "        if(mse < self.mse):\n",
    "            print(', '.join(str(x) for x in features))\n",
    "            print(f\"\\tNew Error: {mse:.3f} better than {self.mse:.3f}\")\n",
    "            self.features = features\n",
    "            self.mse = mse\n",
    "            return True\n",
    "\n",
    "        return False"
   ]
  },
  {
   "cell_type": "markdown",
   "metadata": {},
   "source": [
    "## Feature Selection by complete enumeration"
   ]
  },
  {
   "cell_type": "code",
   "execution_count": 11,
   "metadata": {},
   "outputs": [
    {
     "data": {
      "text/plain": [
       "Index(['cylinders', 'displacement', 'hp', 'weight', 'acceleration', 'year',\n",
       "       'origin'],\n",
       "      dtype='object')"
      ]
     },
     "execution_count": 11,
     "metadata": {},
     "output_type": "execute_result"
    }
   ],
   "source": [
    "best = Solution(y)\n",
    "features = X.columns\n",
    "features"
   ]
  },
  {
   "cell_type": "code",
   "execution_count": 12,
   "metadata": {},
   "outputs": [
    {
     "name": "stdout",
     "output_type": "stream",
     "text": [
      "cylinders\n",
      "\tNew Error: 24.131 better than 60.763\n",
      "displacement\n",
      "\tNew Error: 21.525 better than 24.131\n",
      "weight\n",
      "\tNew Error: 18.833 better than 21.525\n",
      "cylinders, weight\n",
      "\tNew Error: 18.605 better than 18.833\n",
      "cylinders, year\n",
      "\tNew Error: 17.465 better than 18.605\n",
      "displacement, year\n",
      "\tNew Error: 15.979 better than 17.465\n",
      "weight, year\n",
      "\tNew Error: 11.847 better than 15.979\n",
      "weight, year, origin\n",
      "\tNew Error: 11.365 better than 11.847\n",
      "displacement, weight, year, origin\n",
      "\tNew Error: 11.342 better than 11.365\n",
      "displacement, hp, weight, year, origin\n",
      "\tNew Error: 11.195 better than 11.342\n"
     ]
    }
   ],
   "source": [
    "for n_features in range(1,len(features)+1):\n",
    "    subsets = combinations(features, n_features)\n",
    "\n",
    "    for subset in subsets:\n",
    "        Xr = X[list(subset)]\n",
    "        mses = cross_val_score(estimator=get_model(subset), X=Xr, y=y, cv=kfold, scoring='neg_mean_squared_error')\n",
    "        mse = -np.average(mses)\n",
    "        best.update(features=subset, mse=mse)"
   ]
  },
  {
   "cell_type": "code",
   "execution_count": 13,
   "metadata": {},
   "outputs": [
    {
     "name": "stdout",
     "output_type": "stream",
     "text": [
      "Selected features: displacement, hp, weight, year, origin\n"
     ]
    }
   ],
   "source": [
    "print('Selected features: ', end='')\n",
    "print(', '.join([str(x) for x in best.features]))"
   ]
  },
  {
   "cell_type": "markdown",
   "metadata": {},
   "source": [
    "## Forward stepwise selection"
   ]
  },
  {
   "cell_type": "code",
   "execution_count": 14,
   "metadata": {},
   "outputs": [],
   "source": [
    "all_features = features\n",
    "current_features = list()\n",
    "best = Solution(y)"
   ]
  },
  {
   "cell_type": "code",
   "execution_count": 15,
   "metadata": {},
   "outputs": [
    {
     "name": "stdout",
     "output_type": "stream",
     "text": [
      "hp\n",
      "\tNew Error: 24.129 better than 60.763\n",
      "weight\n",
      "\tNew Error: 18.833 better than 24.129\n",
      "weight, acceleration\n",
      "\tNew Error: 18.470 better than 18.833\n",
      "weight, year\n",
      "\tNew Error: 11.847 better than 18.470\n",
      "weight, year, origin\n",
      "\tNew Error: 11.365 better than 11.847\n",
      "weight, year, origin, displacement\n",
      "\tNew Error: 11.342 better than 11.365\n",
      "weight, year, origin, displacement, hp\n",
      "\tNew Error: 11.198 better than 11.342\n"
     ]
    }
   ],
   "source": [
    "while len(current_features) != len(all_features):\n",
    "    selected_feature = None\n",
    "\n",
    "    for feature in set(all_features) - set(current_features):\n",
    "        new_features = current_features + [feature]\n",
    "        Xr = X[new_features]\n",
    "        mses = cross_val_score(estimator=get_model(new_features), X=Xr, y=y, cv=kfold, scoring='neg_mean_squared_error')\n",
    "        mse = -np.average(mses)\n",
    "\n",
    "        if(best.update(features=new_features, mse=mse)):\n",
    "            selected_feature = feature\n",
    "        \n",
    "    if(selected_feature):\n",
    "        current_features.append(selected_feature)\n",
    "    else:\n",
    "        break"
   ]
  },
  {
   "cell_type": "markdown",
   "metadata": {},
   "source": [
    "## Backward Stepwise selection"
   ]
  },
  {
   "cell_type": "code",
   "execution_count": 16,
   "metadata": {},
   "outputs": [],
   "source": [
    "all_features = features\n",
    "current_features = all_features\n",
    "best = Solution(y)"
   ]
  },
  {
   "cell_type": "code",
   "execution_count": 17,
   "metadata": {},
   "outputs": [
    {
     "name": "stdout",
     "output_type": "stream",
     "text": [
      "displacement, hp, weight, acceleration, year, origin\n",
      "\tNew Error: 11.396 better than 60.763\n",
      "cylinders, displacement, hp, weight, year, origin\n",
      "\tNew Error: 11.251 better than 11.396\n",
      "displacement, hp, weight, year, origin\n",
      "\tNew Error: 11.195 better than 11.251\n"
     ]
    }
   ],
   "source": [
    "while len(current_features)>0:\n",
    "    selected_feature = None\n",
    "\n",
    "    for feature in current_features:\n",
    "        new_features = current_features.drop(feature)\n",
    "        Xr = X[new_features]\n",
    "        mses = cross_val_score(estimator=get_model(new_features), X=Xr, y=y, cv=kfold, scoring='neg_mean_squared_error')\n",
    "        mse = -np.average(mses)\n",
    "\n",
    "        if(best.update(features=new_features, mse=mse)):\n",
    "            selected_feature = feature\n",
    "        \n",
    "    if(selected_feature):\n",
    "        current_features = current_features.drop(selected_feature)\n",
    "    else:\n",
    "        break"
   ]
  }
 ],
 "metadata": {
  "kernelspec": {
   "display_name": "Python 3.10.2 64-bit",
   "language": "python",
   "name": "python3"
  },
  "language_info": {
   "codemirror_mode": {
    "name": "ipython",
    "version": 3
   },
   "file_extension": ".py",
   "mimetype": "text/x-python",
   "name": "python",
   "nbconvert_exporter": "python",
   "pygments_lexer": "ipython3",
   "version": "3.10.2"
  },
  "orig_nbformat": 4,
  "vscode": {
   "interpreter": {
    "hash": "f7678789a7c5556a9e37c786e19b4dcfdffe90c67947640637d5b08bebb96e06"
   }
  }
 },
 "nbformat": 4,
 "nbformat_minor": 2
}
